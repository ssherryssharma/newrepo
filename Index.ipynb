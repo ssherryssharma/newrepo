{
 "cells": [
  {
   "cell_type": "markdown",
   "metadata": {},
   "source": [
    "# Welcome to Jupyter!"
   ]
  },
  {
   "cell_type": "code",
   "execution_count": 1,
   "metadata": {},
   "outputs": [
    {
     "name": "stdout",
     "output_type": "stream",
     "text": [
      "4 5 6 8 3 8 1 8 7 5 "
     ]
    }
   ],
   "source": [
    "arr = [[4, 5, 6, 8],  \n",
    "        [1, 2, 3, 1],  \n",
    "        [7, 8, 9, 4],  \n",
    "        [1, 8, 7, 5]] \n",
    "  \n",
    "n = len(arr[0]) \n",
    "                   \n",
    "i=0\n",
    "for j in range(0, n-1): \n",
    "    print(arr[i][j], end =\" \")  \n",
    "          \n",
    "k = 1\n",
    "for i in range(0, n): \n",
    "    for j in range(n, 0, -1): \n",
    "        if(j==n-k): \n",
    "            print(arr[i][j], end = \" \")  \n",
    "            break;  \n",
    "    k+=1\n",
    "  \n",
    "# Print last row \n",
    "i=n-1;  \n",
    "for j in range(0, n): \n",
    "    print(arr[i][j], end = \" \") \n",
    "    "
   ]
  },
  {
   "cell_type": "code",
   "execution_count": null,
   "metadata": {},
   "outputs": [],
   "source": []
  }
 ],
 "metadata": {
  "kernelspec": {
   "display_name": "Python 3",
   "language": "python",
   "name": "python3"
  },
  "language_info": {
   "codemirror_mode": {
    "name": "ipython",
    "version": 3
   },
   "file_extension": ".py",
   "mimetype": "text/x-python",
   "name": "python",
   "nbconvert_exporter": "python",
   "pygments_lexer": "ipython3",
   "version": "3.6.7"
  }
 },
 "nbformat": 4,
 "nbformat_minor": 2
}
