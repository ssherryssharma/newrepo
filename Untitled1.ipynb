{
 "cells": [
  {
   "cell_type": "code",
   "execution_count": 1,
   "metadata": {},
   "outputs": [
    {
     "name": "stdout",
     "output_type": "stream",
     "text": [
      "Yes\n"
     ]
    }
   ],
   "source": [
    "def check(n, m): \n",
    "  \n",
    "    # exceptional case for F(2) \n",
    "    if (n == 2 or m == 2 or\n",
    "        n % m == 0) : \n",
    "        print( \"Yes\" ) \n",
    "      \n",
    "    # if none of the above  \n",
    "    # cases, hence not divisible \n",
    "    else : \n",
    "        print( \"No\" ) \n",
    "  \n",
    "# Driver Code \n",
    "m = 3\n",
    "n = 9\n",
    "check(n, m) \n",
    "  "
   ]
  },
  {
   "cell_type": "code",
   "execution_count": null,
   "metadata": {},
   "outputs": [],
   "source": []
  }
 ],
 "metadata": {
  "kernelspec": {
   "display_name": "Python 3",
   "language": "python",
   "name": "python3"
  },
  "language_info": {
   "codemirror_mode": {
    "name": "ipython",
    "version": 3
   },
   "file_extension": ".py",
   "mimetype": "text/x-python",
   "name": "python",
   "nbconvert_exporter": "python",
   "pygments_lexer": "ipython3",
   "version": "3.6.7"
  }
 },
 "nbformat": 4,
 "nbformat_minor": 2
}
